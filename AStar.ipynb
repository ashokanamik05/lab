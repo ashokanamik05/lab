{
 "cells": [
  {
   "cell_type": "markdown",
   "id": "4cf1d0ab",
   "metadata": {},
   "source": [
    "## Implement A* Search Algorithm\n",
    "### A* Search Algorithm is a Path Finding Algorithm. It is similar to Breadth First Search(BFS). It will search shortest path using heuristic value assigned to node and actual cost from Source_node to Dest_node\n",
    "\n",
    "### Real-life Examples : Maps,Games\n",
    "### Formula for A* Algorithm : f(n) = g(n) + h(n)\n",
    "### h(n) = heuristic_value , g(n) = actual_cost ,f(n) = actual_cost + heursitic_value"
   ]
  },
  {
   "cell_type": "code",
   "execution_count": 6,
   "id": "8a28d830",
   "metadata": {},
   "outputs": [],
   "source": [
    "def aStarAlgo(start_node, stop_node):\n",
    "         \n",
    "        open_set = set(start_node) \n",
    "        closed_set = set()\n",
    "        g = {} #store distance from starting node\n",
    "        parents = {}# parents contains an adjacency map of all nodes\n",
    " \n",
    "        #distance of starting node from itself is zero\n",
    "        g[start_node] = 0\n",
    "        #start_node is root node i.e it has no parent nodes so start_node is set to its own parent node\n",
    "        parents[start_node] = start_node\n",
    "         \n",
    "         \n",
    "        while len(open_set) > 0:\n",
    "            n = None\n",
    " \n",
    "            #node with lowest f() is found\n",
    "            for v in open_set:\n",
    "                if n == None or g[v] + h(v) < g[n] + h(n):\n",
    "                    n = v\n",
    "             \n",
    "                     \n",
    "            if n == stop_node or Graph_nodes[n] == None:\n",
    "                pass\n",
    "            else:\n",
    "                for (m, weight) in get_neighbors(n):\n",
    "                   #nodes 'm' not in first and last set are added to first\n",
    "                    #n is set its parent\n",
    "                    if m not in open_set and m not in closed_set:\n",
    "                        open_set.add(m)\n",
    "                        parents[m] = n\n",
    "                        g[m] = g[n] + weight\n",
    "                         \n",
    "     \n",
    "                    #for each node m,compare its distance from start i.e g(m) to the\n",
    "                    #from start through n node\n",
    "                    else:\n",
    "                        if g[m] > g[n] + weight:\n",
    "                            #update g(m)\n",
    "                            g[m] = g[n] + weight\n",
    "                            #change parent of m to n\n",
    "                            parents[m] = n\n",
    "                             \n",
    "                            #if m in closed set,remove and add to open\n",
    "                            if m in closed_set:\n",
    "                                closed_set.remove(m)\n",
    "                                open_set.add(m)\n",
    " \n",
    "            if n == None:\n",
    "                print('Path does not exist!')\n",
    "                return None\n",
    " \n",
    "            # if the current node is the stop_node\n",
    "            # then we begin reconstructin the path from it to the start_node\n",
    "            if n == stop_node:\n",
    "                path = []\n",
    " \n",
    "                while parents[n] != n:\n",
    "                    path.append(n)\n",
    "                    n = parents[n]\n",
    " \n",
    "                path.append(start_node)\n",
    " \n",
    "                path.reverse()\n",
    " \n",
    "                print('Path found: {}'.format(path))\n",
    "                return path\n",
    " \n",
    " \n",
    "            # remove n from the open_list, and add it to closed_list\n",
    "            # because all of his neighbors were inspected\n",
    "            open_set.remove(n)\n",
    "            closed_set.add(n)\n",
    " \n",
    "        print('Path does not exist!')\n",
    "        return None"
   ]
  },
  {
   "cell_type": "code",
   "execution_count": 7,
   "id": "ec2fac8e",
   "metadata": {},
   "outputs": [],
   "source": [
    "#define fuction to return neighbor and its distance from the passed node\n",
    "def get_neighbors(v):\n",
    "    if v in Graph_nodes:\n",
    "        return Graph_nodes[v]\n",
    "    else:\n",
    "        return None"
   ]
  },
  {
   "cell_type": "code",
   "execution_count": 8,
   "id": "fd04ee93",
   "metadata": {},
   "outputs": [],
   "source": [
    "#Describe your graph here  \n",
    "Graph_nodes = {\n",
    "    'A': [('B', 6), ('F', 3)],\n",
    "    'B': [('C', 3), ('D', 2)],\n",
    "    'C': [('D', 1), ('E', 5)],\n",
    "    'D': [('C', 1), ('E', 8)],\n",
    "    'E': [('I', 5), ('J', 5)],\n",
    "    'F': [('G', 1),('H', 7)] ,\n",
    "    'G': [('I', 3)],\n",
    "    'H': [('I', 2)],\n",
    "    'I': [('E', 5), ('J', 3)],\n",
    "     \n",
    "}"
   ]
  },
  {
   "cell_type": "code",
   "execution_count": 9,
   "id": "2e9ac29f",
   "metadata": {},
   "outputs": [],
   "source": [
    "#for simplicity we ll consider heuristic distances given\n",
    "#and this function returns heuristic distance for all nodes\n",
    "def h(n):\n",
    "        H_dist = {\n",
    "            'A': 10,\n",
    "            'B': 8,\n",
    "            'C': 5,\n",
    "            'D': 7,\n",
    "            'E': 3,\n",
    "            'F': 6,\n",
    "            'G': 5,\n",
    "            'H': 3,\n",
    "            'I': 1,\n",
    "            'J': 0             \n",
    "        }\n",
    " \n",
    "        return H_dist[n]"
   ]
  },
  {
   "cell_type": "code",
   "execution_count": 10,
   "id": "a56a5a9d",
   "metadata": {},
   "outputs": [
    {
     "name": "stdout",
     "output_type": "stream",
     "text": [
      "Path found: ['A', 'F', 'G', 'I', 'J']\n"
     ]
    },
    {
     "data": {
      "text/plain": [
       "['A', 'F', 'G', 'I', 'J']"
      ]
     },
     "execution_count": 10,
     "metadata": {},
     "output_type": "execute_result"
    }
   ],
   "source": [
    "aStarAlgo('A', 'J')"
   ]
  },
  {
   "cell_type": "code",
   "execution_count": null,
   "id": "13c0d85e",
   "metadata": {},
   "outputs": [],
   "source": []
  }
 ],
 "metadata": {
  "kernelspec": {
   "display_name": "Python 3 (ipykernel)",
   "language": "python",
   "name": "python3"
  },
  "language_info": {
   "codemirror_mode": {
    "name": "ipython",
    "version": 3
   },
   "file_extension": ".py",
   "mimetype": "text/x-python",
   "name": "python",
   "nbconvert_exporter": "python",
   "pygments_lexer": "ipython3",
   "version": "3.8.8"
  }
 },
 "nbformat": 4,
 "nbformat_minor": 5
}
