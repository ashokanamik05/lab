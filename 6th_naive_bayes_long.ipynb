{
 "cells": [
  {
   "cell_type": "markdown",
   "id": "4d9e8c76",
   "metadata": {},
   "source": [
    "## Naive Bayesian Classifier\n",
    "## Lab 6: Write a Program to implement the naive bayesian classifier for a sample training data set stored as a .CSV file. Compute the accuracy of the classifier few test data sets."
   ]
  },
  {
   "cell_type": "code",
   "execution_count": 1,
   "id": "2e81b83b",
   "metadata": {},
   "outputs": [],
   "source": [
    "import numpy as np\n",
    "import math\n",
    "import csv"
   ]
  },
  {
   "cell_type": "code",
   "execution_count": 2,
   "id": "6f0d9713",
   "metadata": {},
   "outputs": [],
   "source": [
    "def read_data(filename):\n",
    "    datareader = csv.reader(open(filename, 'r'))\n",
    "    metadata = next(datareader)\n",
    "    traindata=[]\n",
    "    for row in datareader:\n",
    "        traindata.append(row)\n",
    "    return (metadata, traindata)"
   ]
  },
  {
   "cell_type": "code",
   "execution_count": 38,
   "id": "55130aa5",
   "metadata": {},
   "outputs": [],
   "source": [
    "def splitDataset(dataset, splitRatio): \n",
    "    trainSize = int(len(dataset) * splitRatio)\n",
    "    trainSet = []\n",
    "    testset = list(dataset)\n",
    "    while len(trainSet) < trainSize:\n",
    "        trainSet.append(testset.pop(0))\n",
    "    return [trainSet, testset]"
   ]
  },
  {
   "cell_type": "code",
   "execution_count": 53,
   "id": "03d287b2",
   "metadata": {},
   "outputs": [],
   "source": [
    "def classify(data,test):\n",
    "    total_size = data.shape[0]\n",
    "    print(\"training data size=\",total_size)\n",
    "    print(\"test data size=\",test.shape[0])\n",
    "    \n",
    "    target=np.unique(data[:,-1]) #['no' 'yes']\n",
    "    count = np.zeros((target.shape[0]), dtype=np.int32) #[0 0]\n",
    "    prob = np.zeros((target.shape[0]), dtype=np.float32)\n",
    "    \n",
    "    print(\"\\nTarget Count Probability\")\n",
    "    \n",
    "    for i in range(target.shape[0]):\n",
    "        for j in range(data.shape[0]):\n",
    "            if data[j,data.shape[1]-1] == target[i]:\n",
    "                count[i] += 1\n",
    "        prob[i]=count[i]/total_size # comptes the probability of target\n",
    "        print(target[i],\"\\t\",count[i],\"\\t\",prob[i])\n",
    "        \n",
    "    prob0 = np.zeros((test.shape[1]-1), dtype=np.float32)  #[0. 0. 0. 0.]\n",
    "    prob1 = np.zeros((test.shape[1]-1), dtype=np.float32)\n",
    "    accuracy=0\n",
    "    print(\"\\nInstance Prediction Target\")\n",
    "    for i in range(test.shape[0]):\n",
    "        for j in range(test.shape[1]-1): \n",
    "            count1=count0=0\n",
    "            for k in range(data.shape[0]):\n",
    "                if test[i,j]== data[k,j] and data[k,data.shape[1]-1]== target[0]:\n",
    "                    count0+=1\n",
    "                elif test[i,j]== data[k,j] and data[k,data.shape[1]-1]== target[1]:\n",
    "                    count1+=1\n",
    "            prob0[j]= count0/count[0] \n",
    "            prob1[j]= count1/count[1]\n",
    "    \n",
    "        probno=prob[0]\n",
    "        probyes=prob[1]\n",
    "        for m in range(test.shape[1]-1):\n",
    "            probno=probno*prob0[m]\n",
    "            probyes=probyes*prob1[m]\n",
    "    \n",
    "        if probno>probyes: \n",
    "            predict='no'\n",
    "        else:\n",
    "            predict='yes'\n",
    "        print(i+1,\"\\t\",predict,\"\\t \",test[i,test.shape[1]-1])\n",
    "    \n",
    "        if predict== test[i,test.shape[1]-1]:\n",
    "            accuracy+=1\n",
    "        final_accuracy=(accuracy/test.shape[0])*100\n",
    "        print(\"accuracy\",final_accuracy,\"%\")\n",
    "    return"
   ]
  },
  {
   "cell_type": "code",
   "execution_count": 54,
   "id": "46f0c5bd",
   "metadata": {},
   "outputs": [
    {
     "name": "stdout",
     "output_type": "stream",
     "text": [
      "['outlook', 'temp', 'humidity', 'wind', 'play']\n",
      "------------------Training Data ------------------ \n",
      "[['sunny', 'hot', 'high', 'weak', 'no'], ['sunny', 'hot', 'high', 'strong', 'no'], ['overcast', 'hot', 'high', 'weak', 'yes'], ['rainy', 'mild', 'high', 'weak', 'yes'], ['rainy', 'cool', 'normal', 'weak', 'yes'], ['rainy', 'cool', 'normal', 'strong', 'no'], ['overcast', 'cool', 'normal', 'strong', 'yes'], ['sunny', 'mild', 'high', 'weak', 'no']]\n",
      "-------------------Test Data ------------------ \n",
      "[['sunny', 'cool', 'normal', 'weak', 'yes'], ['rainy', 'mild', 'normal', 'weak', 'yes'], ['sunny', 'mild', 'normal', 'strong', 'yes'], ['overcast', 'mild', 'high', 'strong', 'yes'], ['overcast', 'hot', 'normal', 'weak', 'yes'], ['rainy', 'mild', 'high', 'strong', 'no']]\n",
      "training data size= 8\n",
      "test data size= 6\n",
      "\n",
      "Target Count Probability\n",
      "no \t 4 \t 0.5\n",
      "yes \t 4 \t 0.5\n",
      "\n",
      "Instance Prediction Target\n",
      "1 \t no \t  yes\n",
      "accuracy 0.0 %\n",
      "2 \t yes \t  yes\n",
      "accuracy 16.666666666666664 %\n",
      "3 \t no \t  yes\n",
      "accuracy 16.666666666666664 %\n",
      "4 \t yes \t  yes\n",
      "accuracy 33.33333333333333 %\n",
      "5 \t yes \t  yes\n",
      "accuracy 50.0 %\n",
      "6 \t no \t  no\n",
      "accuracy 66.66666666666666 %\n"
     ]
    }
   ],
   "source": [
    "metadata, dataset = read_data(\"playTennis.csv\")\n",
    "splitRatio = 0.6\n",
    "trainingset, testset = splitDataset(dataset, splitRatio)\n",
    "training=np.array(trainingset)\n",
    "testing=np.array(testset)\n",
    "print(metadata)\n",
    "\n",
    "print(\"------------------Training Data ------------------ \")\n",
    "print(trainingset)\n",
    "print(\"-------------------Test Data ------------------ \")\n",
    "print(testset)\n",
    "\n",
    "classify(training,testing)"
   ]
  }
 ],
 "metadata": {
  "kernelspec": {
   "display_name": "Python 3 (ipykernel)",
   "language": "python",
   "name": "python3"
  },
  "language_info": {
   "codemirror_mode": {
    "name": "ipython",
    "version": 3
   },
   "file_extension": ".py",
   "mimetype": "text/x-python",
   "name": "python",
   "nbconvert_exporter": "python",
   "pygments_lexer": "ipython3",
   "version": "3.8.8"
  }
 },
 "nbformat": 4,
 "nbformat_minor": 5
}
